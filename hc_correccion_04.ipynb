{
 "cells": [
  {
   "cell_type": "code",
   "execution_count": 1,
   "metadata": {},
   "outputs": [],
   "source": [
    "import os\n",
    "import shutil\n",
    "from importlib import reload"
   ]
  },
  {
   "cell_type": "code",
   "execution_count": 2,
   "metadata": {},
   "outputs": [],
   "source": [
    "lista_alumnos = os.listdir('./')\n",
    "\n",
    "#Elegir la versión correcta de CP\n",
    "#nro_cp = '../CP01/tests.py' \n",
    "#nro_cp = '../CP02/tests.py' \n",
    "#nro_cp = '../CP03/tests.py' \n",
    "#nro_cp = '../CP04/tests.py'\n",
    "nro_cp = '../CP05/tests.py'\n",
    "for alumno in lista_alumnos:\n",
    "    if (os.path.isdir(alumno)):\n",
    "        if(os.path.isfile('./'+alumno+'/checkpoint.py')):\n",
    "            if(os.path.isfile('./'+alumno+'/tests.py')):\n",
    "                os.remove(alumno+'/tests.py')\n",
    "            shutil.copyfile(nro_cp, alumno+'/tests.py')"
   ]
  },
  {
   "cell_type": "code",
   "execution_count": 3,
   "metadata": {},
   "outputs": [
    {
     "name": "stdout",
     "output_type": "stream",
     "text": [
      "Ejecutando alumno: anaiscon1492\n"
     ]
    },
    {
     "name": "stdout",
     "output_type": "stream",
     "text": [
      "Ejecutando alumno: camillaneza\n",
      "Ejecutando alumno: capitanfeeder\n",
      "Ejecutando alumno: casm64\n",
      "Ejecutando alumno: JimmyPachon\n",
      "Ejecutando alumno: KGSanchezM\n",
      "Ejecutando alumno: LFarahCometti\n",
      "Ejecutando alumno: lourdes-github\n",
      "Ejecutando alumno: memogit18\n",
      "Ejecutando alumno: mihiriart\n",
      "Ejecutando alumno: Ocelotsega\n"
     ]
    }
   ],
   "source": [
    "for alumno in lista_alumnos:\n",
    "    if (os.path.isdir(alumno)):\n",
    "        if(os.path.isfile('./'+alumno+'/checkpoint.py')):\n",
    "            print('Ejecutando alumno:', alumno)\n",
    "            os.chdir('./'+alumno)\n",
    "            os.system('python tests.py')\n",
    "            os.chdir('../')"
   ]
  },
  {
   "cell_type": "code",
   "execution_count": 4,
   "metadata": {},
   "outputs": [],
   "source": [
    "resultado_total = open('resultado_test_main.csv', 'w')\n",
    "resultado_total.write('Usuario,Cant_test,Aciertos\\n')\n",
    "for alumno in lista_alumnos:\n",
    "    if (os.path.isdir(alumno)):\n",
    "        if(os.path.isfile('./'+alumno+'/resultado_test.csv')):\n",
    "            resultado_alumno = open('./'+alumno+'/resultado_test.csv', 'r')\n",
    "            j = 0\n",
    "            for linea in resultado_alumno:\n",
    "                if ((j > 0) and (j < 2)):\n",
    "                    lista = linea.split(',')\n",
    "                    resultado_total.write(f'{alumno},{lista[0]},{lista[3]}')\n",
    "                j+=1\n",
    "            resultado_alumno.close()\n",
    "resultado_total.close()"
   ]
  }
 ],
 "metadata": {
  "interpreter": {
   "hash": "11938c6bc6919ae2720b4d5011047913343b08a43b18698fd82dedb0d4417594"
  },
  "kernelspec": {
   "display_name": "Python 3.9.7 64-bit",
   "language": "python",
   "name": "python3"
  },
  "language_info": {
   "codemirror_mode": {
    "name": "ipython",
    "version": 3
   },
   "file_extension": ".py",
   "mimetype": "text/x-python",
   "name": "python",
   "nbconvert_exporter": "python",
   "pygments_lexer": "ipython3",
   "version": "3.8.3"
  },
  "orig_nbformat": 4
 },
 "nbformat": 4,
 "nbformat_minor": 2
}
